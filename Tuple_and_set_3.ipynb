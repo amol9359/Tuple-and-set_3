{
  "nbformat": 4,
  "nbformat_minor": 0,
  "metadata": {
    "colab": {
      "name": "Tuple and set_3",
      "provenance": [],
      "collapsed_sections": []
    },
    "kernelspec": {
      "name": "python3",
      "display_name": "Python 3"
    },
    "language_info": {
      "name": "python"
    }
  },
  "cells": [
    {
      "cell_type": "markdown",
      "source": [
        "1.1 Write a Python Program to implement your own myreduce() function which works exactly\n",
        "like Python's built-in function reduce()\n",
        "\n",
        "\n",
        "1.2 Write a Python program to implement your own myfilter() function which works exactly\n",
        "like Python's built-in function filter()\n",
        "\n",
        "\n",
        "2. Implement List comprehensions to produce the following lists.\n",
        "Write List comprehensions to produce the following Lists\n",
        "\n",
        "['A', 'C', 'A', 'D', 'G', 'I', ’L’, ‘ D’]\n",
        "\n",
        "['x', 'xx', 'xxx', 'xxxx', 'y', 'yy', 'yyy', 'yyyy', 'z', 'zz', 'zzz', 'zzzz']\n",
        "\n",
        "['x', 'y', 'z', 'xx', 'yy', 'zz', 'xxx', 'yyy', 'zzz', 'xxxx', 'yyyy', 'zzzz']\n",
        "\n",
        "[[2], [3], [4], [3], [4], [5], [4], [5], [6]]\n",
        " \n",
        "[[2, 3, 4, 5], [3, 4, 5, 6],\n",
        "[4, 5, 6, 7], [5, 6, 7, 8]]\n",
        "\n",
        "[(1, 1), (2, 1), (3, 1), (1, 2), (2, 2), (3, 2), (1, 3), (2, 3), (3, 3)]"
      ],
      "metadata": {
        "id": "LPRbESi2LG6e"
      }
    },
    {
      "cell_type": "code",
      "execution_count": null,
      "metadata": {
        "colab": {
          "base_uri": "https://localhost:8080/"
        },
        "id": "Um5-zSI6uu_1",
        "outputId": "69f0db29-aeb4-45b1-e910-a4c82b546d45"
      },
      "outputs": [
        {
          "output_type": "stream",
          "name": "stdout",
          "text": [
            "Input:\n",
            "Please insert the number :5\n",
            "Output:\n",
            "List of First n Natural numbers are: [1, 2, 3, 4, 5]\n",
            "Sum of List elements are : 15\n"
          ]
        }
      ],
      "source": [
        "#Q1.1)\n",
        "#Sum of First n Natural numbers.\n",
        "\n",
        "\n",
        "def myreduce(num):\n",
        "    ''' This functionm will return sum of n Natural numbers'''\n",
        "    num_list=list(range(1,number+1))\n",
        "    sum_of_elements=0\n",
        "    \n",
        "    for i in num_list:\n",
        "        sum_of_elements+=i\n",
        "        \n",
        "    return num_list,sum_of_elements\n",
        "\n",
        "#Input \n",
        "print(\"Input:\")\n",
        "number=int(input(\"Please insert the number :\"))\n",
        "\n",
        "#Function Execution\n",
        "\n",
        "output_value=myreduce(number)\n",
        "\n",
        "#Output\n",
        "print(\"Output:\")\n",
        "print(\"List of First n Natural numbers are:\",output_value[0])\n",
        "print(\"Sum of List elements are :\",output_value[1])  "
      ]
    },
    {
      "cell_type": "markdown",
      "source": [
        ""
      ],
      "metadata": {
        "id": "ezUDlb5VyADL"
      }
    },
    {
      "cell_type": "code",
      "source": [
        "#Q1.2)\n",
        "# Filter the even and odd number from list which are multiples  of 5\n",
        "\n",
        "#Input \n",
        "\n",
        "print(\"Input:\")\n",
        "number=int(input(\"Please insert the number: \"))\n",
        "\n",
        "num_list=list(range(1,number+1))\n",
        "\n",
        "\n",
        "def myfilter(num_list):\n",
        "    '''This function will filter even and odd numbers from list which are multiples of 5 '''\n",
        "    num_even_list=[]\n",
        "    num_odd_list=[]\n",
        "    \n",
        "    for i in num_list:\n",
        "        if(i%5==0):\n",
        "            if(i%2==0):\n",
        "                num_even_list.append(i)\n",
        "            else:\n",
        "                num_odd_list.append(i)\n",
        "                \n",
        "    return num_even_list,num_odd_list\n",
        "\n",
        "\n",
        "#Function Execution\n",
        "output_value=myfilter(num_list)\n",
        "\n",
        "#Output\n",
        "\n",
        "print(\"Output:\")\n",
        "print(\"List of numbers:\",num_list)\n",
        "print(\"List of Even numbers, which are multiples of 5 are:\",output_value[0])\n",
        "print(\"List of Odd numbers, which are multiples of 5 are:\",output_value[1])"
      ],
      "metadata": {
        "colab": {
          "base_uri": "https://localhost:8080/"
        },
        "id": "LNuCkPs7vSN5",
        "outputId": "d6b6f708-629e-4f7e-da17-6b4f7950c79c"
      },
      "execution_count": null,
      "outputs": [
        {
          "output_type": "stream",
          "name": "stdout",
          "text": [
            "Input:\n",
            "Please insert the number: 6\n",
            "Output:\n",
            "List of numbers: [1, 2, 3, 4, 5, 6]\n",
            "List of Even numbers, which are multiples of 5 are: []\n",
            "List of Odd numbers, which are multiples of 5 are: [5]\n"
          ]
        }
      ]
    },
    {
      "cell_type": "code",
      "source": [
        "#Q2)\n",
        "#part 1\n",
        "word_1=list('xyz')\n",
        "word_2=[x*n for x in word_1 for n in range(1,5) ]\n",
        "print(word_2)\n",
        "#part 2\n",
        "word_3=[x*n for n in range(1,5) for x in word_1 ]\n",
        "print(word_3)\n",
        "#part 3\n",
        "number=[2,3,4]\n",
        "number_1=[[x+n] for x in number for n in range(0,3)]\n",
        "print(number_1)\n",
        "#part 4\n",
        "number_2=[2,3,4,5]\n",
        "number_3=[[x+n for n in range(0,4)] for x in number_2 ]\n",
        "print(number_3)\n",
        "#part 5\n",
        "number_4=[1,2,3]\n",
        "number_5= [(b,a) for a in number_4 for b in number_4]\n",
        "print(number_5)\n"
      ],
      "metadata": {
        "colab": {
          "base_uri": "https://localhost:8080/"
        },
        "id": "B6Z-n-I8wbQA",
        "outputId": "e366dd65-8752-448e-a4cc-623e1319f24d"
      },
      "execution_count": null,
      "outputs": [
        {
          "output_type": "stream",
          "name": "stdout",
          "text": [
            "['x', 'xx', 'xxx', 'xxxx', 'y', 'yy', 'yyy', 'yyyy', 'z', 'zz', 'zzz', 'zzzz']\n",
            "['x', 'y', 'z', 'xx', 'yy', 'zz', 'xxx', 'yyy', 'zzz', 'xxxx', 'yyyy', 'zzzz']\n",
            "[[2], [3], [4], [3], [4], [5], [4], [5], [6]]\n",
            "[[2, 3, 4, 5], [3, 4, 5, 6], [4, 5, 6, 7], [5, 6, 7, 8]]\n",
            "[(1, 1), (2, 1), (3, 1), (1, 2), (2, 2), (3, 2), (1, 3), (2, 3), (3, 3)]\n"
          ]
        }
      ]
    },
    {
      "cell_type": "code",
      "source": [
        ""
      ],
      "metadata": {
        "id": "KaBGIevkxZRg"
      },
      "execution_count": null,
      "outputs": []
    }
  ]
}